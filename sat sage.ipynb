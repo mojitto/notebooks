{
 "cells": [
  {
   "cell_type": "markdown",
   "metadata": {},
   "source": [
    "Sage wspiera rozwiązywanie wyrażeń w koniunkcyjnej postaci normalnej. Na przykład mając zadane wyrażenie:\n",
    "\n",
    "x1 OR x2 OR (NOT x3),\n",
    "\n",
    "aby było prawdziwe zapisujemy:\n",
    "\n",
    "(1,2,-3)."
   ]
  },
  {
   "cell_type": "markdown",
   "metadata": {},
   "source": [
    "Domyślnie Sage rozwiązuje problemy SAT jako Integer Linear Program, ale jakikolwiek SAT solver wspierający wejście zgodne z DIMACS może zostać użyty. Załóżmy następujący problem:\n",
    "\n",
    "(x1 OR x2 OR x3) AND (x1 OR x2 OR (NOT x3))\n",
    "\n",
    "W Sage'u:"
   ]
  },
  {
   "cell_type": "code",
   "execution_count": 22,
   "metadata": {},
   "outputs": [
    {
     "data": {
      "text/plain": [
       "[None, True, False, False]"
      ]
     },
     "execution_count": 22,
     "metadata": {},
     "output_type": "execute_result"
    }
   ],
   "source": [
    "solver = SAT()\n",
    "solver.add_clause ((1,2,3))\n",
    "solver.add_clause ((1,2,-3))\n",
    "solver()"
   ]
  },
  {
   "cell_type": "markdown",
   "metadata": {},
   "source": [
    "Można korzystać też z DIMACS-a, jako formatu zapisu problemu"
   ]
  },
  {
   "cell_type": "code",
   "execution_count": 27,
   "metadata": {},
   "outputs": [
    {
     "name": "stdout",
     "output_type": "stream",
     "text": [
      "p cnf 3 2\n",
      "\n",
      "1 2 3 0\n",
      "\n",
      "1 2 -3 0\n",
      "\n"
     ]
    }
   ],
   "source": [
    "from sage.sat.solvers.dimacs import DIMACS\n",
    "fn=tmp_filename()\n",
    "solver=DIMACS(filename=fn)\n",
    "solver.add_clause((1,2,3))\n",
    "solver.add_clause((1,2,-3))\n",
    "_=solver.write()\n",
    "for line in open (fn).readlines():\n",
    "    print (line)\n"
   ]
  },
  {
   "cell_type": "markdown",
   "metadata": {},
   "source": [
    "Converters\n",
    "\n",
    "Sage wspiera konwersję z wielomianów boolowskich (algebraicznej formy normalnej) to koniunkcyjnej postaci normalnej."
   ]
  },
  {
   "cell_type": "code",
   "execution_count": 54,
   "metadata": {},
   "outputs": [
    {
     "name": "stdout",
     "output_type": "stream",
     "text": [
      "p cnf 3 3\n",
      "-3 0\n",
      "-2 0\n",
      "-1 0\n",
      "\n"
     ]
    }
   ],
   "source": [
    "sage: B.<a,b,c> = BooleanPolynomialRing()\n",
    "sage: from sage.sat.converters.polybori import CNFEncoder\n",
    "sage: from sage.sat.solvers.dimacs import DIMACS\n",
    "sage: fn = tmp_filename()\n",
    "sage: solver = DIMACS(filename=fn)\n",
    "sage: e = CNFEncoder(solver, B)\n",
    "sage: e.clauses_sparse(a+b+c+a*b+a*c+b*c+a*b*c)\n",
    "sage: _ = solver.write()\n",
    "sage: print(open(fn).read())"
   ]
  },
  {
   "cell_type": "markdown",
   "metadata": {},
   "source": [
    "Sage zapewnia różne wysoko poziomowe funkcje upraszczające pracę z wielomianami boolowskimi. "
   ]
  },
  {
   "cell_type": "code",
   "execution_count": 55,
   "metadata": {},
   "outputs": [
    {
     "name": "stdout",
     "output_type": "stream",
     "text": [
      "Polynomial Sequence with 36 Polynomials in 20 Variables\n"
     ]
    },
    {
     "ename": "PackageNotFoundError",
     "evalue": "the package u'cryptominisat' was not found. You can install it by running 'sage -i cryptominisat' in a shell",
     "output_type": "error",
     "traceback": [
      "\u001b[0;31m---------------------------------------------------------------------------\u001b[0m",
      "\u001b[0;31mPackageNotFoundError\u001b[0m                      Traceback (most recent call last)",
      "\u001b[0;32m<ipython-input-55-885007dfd2a6>\u001b[0m in \u001b[0;36m<module>\u001b[0;34m()\u001b[0m\n\u001b[1;32m      4\u001b[0m \u001b[0;32mprint\u001b[0m \u001b[0mF\u001b[0m\u001b[0;34m\u001b[0m\u001b[0;34m\u001b[0m\u001b[0m\n\u001b[1;32m      5\u001b[0m \u001b[0;32mfrom\u001b[0m \u001b[0msage\u001b[0m\u001b[0;34m.\u001b[0m\u001b[0msat\u001b[0m\u001b[0;34m.\u001b[0m\u001b[0mboolean_polynomials\u001b[0m \u001b[0;32mimport\u001b[0m \u001b[0msolve\u001b[0m \u001b[0;32mas\u001b[0m \u001b[0msolve_sat\u001b[0m\u001b[0;34m\u001b[0m\u001b[0;34m\u001b[0m\u001b[0m\n\u001b[0;32m----> 6\u001b[0;31m \u001b[0ms\u001b[0m \u001b[0;34m=\u001b[0m \u001b[0msolve_sat\u001b[0m\u001b[0;34m(\u001b[0m\u001b[0mF\u001b[0m\u001b[0;34m)\u001b[0m\u001b[0;34m\u001b[0m\u001b[0;34m\u001b[0m\u001b[0m\n\u001b[0m\u001b[1;32m      7\u001b[0m \u001b[0mF\u001b[0m\u001b[0;34m.\u001b[0m\u001b[0msubs\u001b[0m\u001b[0;34m(\u001b[0m\u001b[0ms\u001b[0m\u001b[0;34m[\u001b[0m\u001b[0mInteger\u001b[0m\u001b[0;34m(\u001b[0m\u001b[0;36m0\u001b[0m\u001b[0;34m)\u001b[0m\u001b[0;34m]\u001b[0m\u001b[0;34m)\u001b[0m\u001b[0;34m\u001b[0m\u001b[0;34m\u001b[0m\u001b[0m\n",
      "\u001b[0;32m/usr/lib/python2.7/dist-packages/sage/sat/boolean_polynomials.pyc\u001b[0m in \u001b[0;36msolve\u001b[0;34m(F, converter, solver, n, target_variables, **kwds)\u001b[0m\n\u001b[1;32m    165\u001b[0m                 \u001b[0msolver_kwds\u001b[0m\u001b[0;34m[\u001b[0m\u001b[0mk\u001b[0m\u001b[0;34m[\u001b[0m\u001b[0;36m2\u001b[0m\u001b[0;34m:\u001b[0m\u001b[0;34m]\u001b[0m\u001b[0;34m]\u001b[0m \u001b[0;34m=\u001b[0m \u001b[0mv\u001b[0m\u001b[0;34m\u001b[0m\u001b[0;34m\u001b[0m\u001b[0m\n\u001b[1;32m    166\u001b[0m \u001b[0;34m\u001b[0m\u001b[0m\n\u001b[0;32m--> 167\u001b[0;31m         \u001b[0msolver\u001b[0m \u001b[0;34m=\u001b[0m \u001b[0msolver\u001b[0m\u001b[0;34m(\u001b[0m\u001b[0;34m**\u001b[0m\u001b[0msolver_kwds\u001b[0m\u001b[0;34m)\u001b[0m\u001b[0;34m\u001b[0m\u001b[0;34m\u001b[0m\u001b[0m\n\u001b[0m\u001b[1;32m    168\u001b[0m \u001b[0;34m\u001b[0m\u001b[0m\n\u001b[1;32m    169\u001b[0m     \u001b[0;31m# instantiate the ANF to CNF converter\u001b[0m\u001b[0;34m\u001b[0m\u001b[0;34m\u001b[0m\u001b[0;34m\u001b[0m\u001b[0m\n",
      "\u001b[0;32m/usr/lib/python2.7/dist-packages/sage/sat/solvers/cryptominisat.pyc\u001b[0m in \u001b[0;36m__init__\u001b[0;34m(self, verbosity, confl_limit, threads)\u001b[0m\n\u001b[1;32m     69\u001b[0m         \u001b[0;32mexcept\u001b[0m \u001b[0mImportError\u001b[0m\u001b[0;34m:\u001b[0m\u001b[0;34m\u001b[0m\u001b[0;34m\u001b[0m\u001b[0m\n\u001b[1;32m     70\u001b[0m             \u001b[0;32mfrom\u001b[0m \u001b[0msage\u001b[0m\u001b[0;34m.\u001b[0m\u001b[0mmisc\u001b[0m\u001b[0;34m.\u001b[0m\u001b[0mpackage\u001b[0m \u001b[0;32mimport\u001b[0m \u001b[0mPackageNotFoundError\u001b[0m\u001b[0;34m\u001b[0m\u001b[0;34m\u001b[0m\u001b[0m\n\u001b[0;32m---> 71\u001b[0;31m             \u001b[0;32mraise\u001b[0m \u001b[0mPackageNotFoundError\u001b[0m\u001b[0;34m(\u001b[0m\u001b[0;34m\"cryptominisat\"\u001b[0m\u001b[0;34m)\u001b[0m\u001b[0;34m\u001b[0m\u001b[0;34m\u001b[0m\u001b[0m\n\u001b[0m\u001b[1;32m     72\u001b[0m         \u001b[0mself\u001b[0m\u001b[0;34m.\u001b[0m\u001b[0m_solver\u001b[0m \u001b[0;34m=\u001b[0m \u001b[0mSolver\u001b[0m\u001b[0;34m(\u001b[0m\u001b[0mverbose\u001b[0m\u001b[0;34m=\u001b[0m\u001b[0mint\u001b[0m\u001b[0;34m(\u001b[0m\u001b[0mverbosity\u001b[0m\u001b[0;34m)\u001b[0m\u001b[0;34m,\u001b[0m \u001b[0mconfl_limit\u001b[0m\u001b[0;34m=\u001b[0m\u001b[0mint\u001b[0m\u001b[0;34m(\u001b[0m\u001b[0mconfl_limit\u001b[0m\u001b[0;34m)\u001b[0m\u001b[0;34m,\u001b[0m \u001b[0mthreads\u001b[0m\u001b[0;34m=\u001b[0m\u001b[0mint\u001b[0m\u001b[0;34m(\u001b[0m\u001b[0mthreads\u001b[0m\u001b[0;34m)\u001b[0m\u001b[0;34m)\u001b[0m\u001b[0;34m\u001b[0m\u001b[0;34m\u001b[0m\u001b[0m\n\u001b[1;32m     73\u001b[0m         \u001b[0mself\u001b[0m\u001b[0;34m.\u001b[0m\u001b[0m_nvars\u001b[0m \u001b[0;34m=\u001b[0m \u001b[0;36m0\u001b[0m\u001b[0;34m\u001b[0m\u001b[0;34m\u001b[0m\u001b[0m\n",
      "\u001b[0;31mPackageNotFoundError\u001b[0m: the package u'cryptominisat' was not found. You can install it by running 'sage -i cryptominisat' in a shell"
     ]
    }
   ],
   "source": [
    "sage: sr = mq.SR(1,1,1,4,gf2=True,polybori=True)\n",
    "\n",
    "sage: F,s = sr.polynomial_system()\n",
    "sage: print F\n",
    "sage: from sage.sat.boolean_polynomials import solve as solve_sat \n",
    "sage: s = solve_sat(F)                                            \n",
    "sage: F.subs(s[0])                                               \n"
   ]
  },
  {
   "cell_type": "markdown",
   "metadata": {},
   "source": [
    "ANF -> CNF sparse strat"
   ]
  },
  {
   "cell_type": "code",
   "execution_count": 56,
   "metadata": {},
   "outputs": [
    {
     "name": "stdout",
     "output_type": "stream",
     "text": [
      "p cnf 3 2\n",
      "1 0\n",
      "-2 0\n",
      "\n"
     ]
    },
    {
     "data": {
      "text/plain": [
       "[None, a, b, c]"
      ]
     },
     "execution_count": 56,
     "metadata": {},
     "output_type": "execute_result"
    }
   ],
   "source": [
    "sage: B.<a,b,c> = BooleanPolynomialRing()\n",
    "sage: from sage.sat.converters.polybori import CNFEncoder\n",
    "sage: from sage.sat.solvers.dimacs import DIMACS\n",
    "sage: fn = tmp_filename()\n",
    "sage: solver = DIMACS(filename=fn)\n",
    "sage: e = CNFEncoder(solver, B)\n",
    "sage: e.clauses_sparse(a*b + a + 1)\n",
    "sage: _ = solver.write()\n",
    "sage: print(open(fn).read())\n",
    "sage: e.phi"
   ]
  },
  {
   "cell_type": "markdown",
   "metadata": {},
   "source": [
    "ANF -> CNF dense strat"
   ]
  },
  {
   "cell_type": "code",
   "execution_count": 57,
   "metadata": {},
   "outputs": [
    {
     "name": "stdout",
     "output_type": "stream",
     "text": [
      "p cnf 4 5\n",
      "1 -4 0\n",
      "2 -4 0\n",
      "4 -1 -2 0\n",
      "-4 -1 0\n",
      "4 1 0\n",
      "\n"
     ]
    },
    {
     "data": {
      "text/plain": [
       "[None, a, b, c, a*b]"
      ]
     },
     "execution_count": 57,
     "metadata": {},
     "output_type": "execute_result"
    }
   ],
   "source": [
    "sage: B.<a,b,c> = BooleanPolynomialRing()\n",
    "sage: from sage.sat.converters.polybori import CNFEncoder\n",
    "sage: from sage.sat.solvers.dimacs import DIMACS\n",
    "sage: fn = tmp_filename()\n",
    "sage: solver = DIMACS(filename=fn)\n",
    "sage: e = CNFEncoder(solver, B)\n",
    "sage: e.clauses_dense(a*b + a + 1)\n",
    "sage: _ = solver.write()\n",
    "sage: print(open(fn).read())\n",
    "\n",
    "sage: e.phi\n"
   ]
  }
 ],
 "metadata": {
  "kernelspec": {
   "display_name": "SageMath 8.1",
   "language": "",
   "name": "sagemath"
  },
  "language_info": {
   "codemirror_mode": {
    "name": "ipython",
    "version": 2
   },
   "file_extension": ".py",
   "mimetype": "text/x-python",
   "name": "python",
   "nbconvert_exporter": "python",
   "pygments_lexer": "ipython2",
   "version": "2.7.15+"
  }
 },
 "nbformat": 4,
 "nbformat_minor": 2
}
