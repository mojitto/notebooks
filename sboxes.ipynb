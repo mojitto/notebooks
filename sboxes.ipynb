{
 "cells": [
  {
   "cell_type": "markdown",
   "metadata": {},
   "source": [
    "Sbox - \"pudełko\" podstawień, podstawowy komponent kryptografii symetrycznej, transformuje m bitów wejścia na n bitów wyjścia. Często implementowany jako lookup table. Projektuje się je tak, aby były odporne na kryptoanalizę różnicową i liniową.\n",
    "\n",
    "Przykład: S-box szyfru blokowego PRESENT"
   ]
  },
  {
   "cell_type": "code",
   "execution_count": 1,
   "metadata": {},
   "outputs": [
    {
     "data": {
      "text/plain": [
       "5"
      ]
     },
     "execution_count": 1,
     "metadata": {},
     "output_type": "execute_result"
    }
   ],
   "source": [
    "sage: from sage.crypto.sbox import SBox\n",
    "sage: S = SBox(12,5,6,11,9,0,10,13,3,14,15,8,4,7,1,2); S\n",
    "\n",
    "sage: S(1)\n",
    "5"
   ]
  },
  {
   "cell_type": "markdown",
   "metadata": {},
   "source": [
    "4-bitowemu wejściu przyporządkowuje się 4-bitowe wyjście jak widać w przykładzie (1 -> 5).\n",
    "\n",
    "Sage umożliwia interpretację w obu systemach big/little endian, jednak domyślnie interpretuje jako big endian. Nie jest to spójne z pozostałą częścią środowiska, które zdaje się skłaniać ku little endian, jednak jest zgodne z literaturą krypto."
   ]
  },
  {
   "cell_type": "code",
   "execution_count": 2,
   "metadata": {},
   "outputs": [
    {
     "data": {
      "text/plain": [
       "[1, 1, 0, 0]"
      ]
     },
     "execution_count": 2,
     "metadata": {},
     "output_type": "execute_result"
    }
   ],
   "source": [
    "sage: S([0,0,0,1])\n",
    "[0, 1, 0, 1]\n",
    "\n",
    "sage: S = SBox(12,5,6,11,9,0,10,13,3,14,15,8,4,7,1,2, big_endian=False)\n",
    "sage: S(1)\n",
    "\n",
    "sage: S([0,0,0,1])\n"
   ]
  },
  {
   "cell_type": "markdown",
   "metadata": {},
   "source": [
    "Jak widać Sboxy interpretowane są w obu systemach. ([0,0,0,1]) = 8 => 3 = ([1,1,0,0]) "
   ]
  },
  {
   "cell_type": "code",
   "execution_count": 23,
   "metadata": {},
   "outputs": [
    {
     "data": {
      "text/plain": [
       "(6, 5, 2, 9, 4, 7, 3, 12, 14, 15, 10, 0, 8, 1, 13, 11)"
      ]
     },
     "execution_count": 23,
     "metadata": {},
     "output_type": "execute_result"
    }
   ],
   "source": [
    "sage: sr = mq.SR(1,1,1,4, allow_zero_inversions=True)\n",
    "sage: S = SBox([sr.sub_byte(e) for e in list(sr.k)])\n",
    "sage: S\n"
   ]
  },
  {
   "cell_type": "markdown",
   "metadata": {},
   "source": [
    "SR to \"mały AES\" - http://doc.sagemath.org/html/en/reference/cryptography/sage/crypto/mq/sr.html"
   ]
  },
  {
   "cell_type": "markdown",
   "metadata": {},
   "source": [
    "Spróbujmy stworzyć z niego cnfa."
   ]
  },
  {
   "cell_type": "code",
   "execution_count": 25,
   "metadata": {},
   "outputs": [
    {
     "name": "stdout",
     "output_type": "stream",
     "text": [
      "[(1, 2, 3, 4, -5), (1, 2, 3, 4, 6), (1, 2, 3, 4, 7), (1, 2, 3, 4, -8), (1, 2, 3, -4, -5), (1, 2, 3, -4, 6), (1, 2, 3, -4, -7), (1, 2, 3, -4, 8), (1, 2, -3, 4, -5), (1, 2, -3, 4, -6), (1, 2, -3, 4, 7), (1, 2, -3, 4, -8), (1, 2, -3, -4, 5), (1, 2, -3, -4, -6), (1, 2, -3, -4, -7), (1, 2, -3, -4, 8), (1, -2, 3, 4, -5), (1, -2, 3, 4, 6), (1, -2, 3, 4, -7), (1, -2, 3, 4, -8), (1, -2, 3, -4, -5), (1, -2, 3, -4, 6), (1, -2, 3, -4, 7), (1, -2, 3, -4, 8), (1, -2, -3, 4, -5), (1, -2, -3, 4, -6), (1, -2, -3, 4, 7), (1, -2, -3, 4, 8), (1, -2, -3, -4, 5), (1, -2, -3, -4, 6), (1, -2, -3, -4, -7), (1, -2, -3, -4, -8), (-1, 2, 3, 4, 5), (-1, 2, 3, 4, 6), (-1, 2, 3, 4, 7), (-1, 2, 3, 4, -8), (-1, 2, 3, -4, 5), (-1, 2, 3, -4, 6), (-1, 2, 3, -4, 7), (-1, 2, 3, -4, 8), (-1, 2, -3, 4, 5), (-1, 2, -3, 4, -6), (-1, 2, -3, 4, 7), (-1, 2, -3, 4, -8), (-1, 2, -3, -4, -5), (-1, 2, -3, -4, -6), (-1, 2, -3, -4, -7), (-1, 2, -3, -4, -8), (-1, -2, 3, 4, 5), (-1, -2, 3, 4, -6), (-1, -2, 3, 4, -7), (-1, -2, 3, 4, -8), (-1, -2, 3, -4, -5), (-1, -2, 3, -4, -6), (-1, -2, 3, -4, -7), (-1, -2, 3, -4, 8), (-1, -2, -3, 4, 5), (-1, -2, -3, 4, 6), (-1, -2, -3, 4, -7), (-1, -2, -3, 4, 8), (-1, -2, -3, -4, 5), (-1, -2, -3, -4, -6), (-1, -2, -3, -4, 7), (-1, -2, -3, -4, 8)]\n"
     ]
    }
   ],
   "source": [
    "\n",
    "a=S.cnf()\n",
    "print a"
   ]
  },
  {
   "cell_type": "markdown",
   "metadata": {},
   "source": [
    "Opisuje to każdą kombinację wejściową (indeksy od 1 do 4) z odpowiednim wyjściem (pojedynczy indeks od 5 do 8) opisując w kompletny sposób kombinację wyjść z Sboxa. Można się tu bawić dalej zmieniając indeksy na inne numerki, wrzucając wszystko do formatu DIMACS:"
   ]
  },
  {
   "cell_type": "code",
   "execution_count": 30,
   "metadata": {},
   "outputs": [
    {
     "name": "stdout",
     "output_type": "stream",
     "text": [
      "10 20 30 40 -50 0\n",
      "10 20 30 40 60 0\n",
      "10 20 30 40 70 0\n",
      "10 20 30 40 -80 0\n",
      "10 20 30 -40 -50 0\n",
      "10 20 30 -40 60 0\n",
      "10 20 30 -40 -70 0\n",
      "10 20 30 -40 80 0\n",
      "10 20 -30 40 -50 0\n",
      "10 20 -30 40 -60 0\n",
      "10 20 -30 40 70 0\n",
      "10 20 -30 40 -80 0\n",
      "10 20 -30 -40 50 0\n",
      "10 20 -30 -40 -60 0\n",
      "10 20 -30 -40 -70 0\n",
      "10 20 -30 -40 80 0\n",
      "10 -20 30 40 -50 0\n",
      "10 -20 30 40 60 0\n",
      "10 -20 30 40 -70 0\n",
      "10 -20 30 40 -80 0\n",
      "10 -20 30 -40 -50 0\n",
      "10 -20 30 -40 60 0\n",
      "10 -20 30 -40 70 0\n",
      "10 -20 30 -40 80 0\n",
      "10 -20 -30 40 -50 0\n",
      "10 -20 -30 40 -60 0\n",
      "10 -20 -30 40 70 0\n",
      "10 -20 -30 40 80 0\n",
      "10 -20 -30 -40 50 0\n",
      "10 -20 -30 -40 60 0\n",
      "10 -20 -30 -40 -70 0\n",
      "10 -20 -30 -40 -80 0\n",
      "-10 20 30 40 50 0\n",
      "-10 20 30 40 60 0\n",
      "-10 20 30 40 70 0\n",
      "-10 20 30 40 -80 0\n",
      "-10 20 30 -40 50 0\n",
      "-10 20 30 -40 60 0\n",
      "-10 20 30 -40 70 0\n",
      "-10 20 30 -40 80 0\n",
      "-10 20 -30 40 50 0\n",
      "-10 20 -30 40 -60 0\n",
      "-10 20 -30 40 70 0\n",
      "-10 20 -30 40 -80 0\n",
      "-10 20 -30 -40 -50 0\n",
      "-10 20 -30 -40 -60 0\n",
      "-10 20 -30 -40 -70 0\n",
      "-10 20 -30 -40 -80 0\n",
      "-10 -20 30 40 50 0\n",
      "-10 -20 30 40 -60 0\n",
      "-10 -20 30 40 -70 0\n",
      "-10 -20 30 40 -80 0\n",
      "-10 -20 30 -40 -50 0\n",
      "-10 -20 30 -40 -60 0\n",
      "-10 -20 30 -40 -70 0\n",
      "-10 -20 30 -40 80 0\n",
      "-10 -20 -30 40 50 0\n",
      "-10 -20 -30 40 60 0\n",
      "-10 -20 -30 40 -70 0\n",
      "-10 -20 -30 40 80 0\n",
      "-10 -20 -30 -40 50 0\n",
      "-10 -20 -30 -40 -60 0\n",
      "-10 -20 -30 -40 70 0\n",
      "-10 -20 -30 -40 80 0\n",
      "\n"
     ]
    }
   ],
   "source": [
    "sage: print S.cnf([10,20,30,40],yi=[50,60,70,80], format='dimacs_headless')\n"
   ]
  }
 ],
 "metadata": {
  "kernelspec": {
   "display_name": "SageMath 8.1",
   "language": "",
   "name": "sagemath"
  },
  "language_info": {
   "codemirror_mode": {
    "name": "ipython",
    "version": 2
   },
   "file_extension": ".py",
   "mimetype": "text/x-python",
   "name": "python",
   "nbconvert_exporter": "python",
   "pygments_lexer": "ipython2",
   "version": "2.7.15+"
  }
 },
 "nbformat": 4,
 "nbformat_minor": 2
}
